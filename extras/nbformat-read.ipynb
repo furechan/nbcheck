{
 "cells": [
  {
   "cell_type": "code",
   "execution_count": 18,
   "id": "initial_id",
   "metadata": {
    "collapsed": true,
    "ExecuteTime": {
     "end_time": "2023-12-28T18:30:24.298813Z",
     "start_time": "2023-12-28T18:30:24.286700Z"
    }
   },
   "outputs": [],
   "source": [
    "import nbformat\n",
    "\n",
    "from pathlib import Path"
   ]
  },
  {
   "cell_type": "code",
   "outputs": [
    {
     "data": {
      "text/plain": "'broken-notebook.ipynb'"
     },
     "execution_count": 19,
     "metadata": {},
     "output_type": "execute_result"
    }
   ],
   "source": [
    "nbfile = Path(\"broken-notebook.ipynb\").resolve(True)\n",
    "nbfile.name"
   ],
   "metadata": {
    "collapsed": false,
    "ExecuteTime": {
     "end_time": "2023-12-28T18:30:24.508036Z",
     "start_time": "2023-12-28T18:30:24.495953Z"
    }
   },
   "id": "25ebe14444cdc445",
   "execution_count": 19
  },
  {
   "cell_type": "code",
   "outputs": [
    {
     "data": {
      "text/plain": "{'cells': [{'cell_type': 'code',\n   'execution_count': 5,\n   'id': 'initial_id',\n   'metadata': {'collapsed': True,\n    'ExecuteTime': {'end_time': '2023-12-27T19:33:00.959347Z',\n     'start_time': '2023-12-27T19:33:00.946942Z'}},\n   'outputs': [],\n   'source': 'import re\\n\\npattern = r\"(^[A-Za-z_][A-Za-z0-9_]*)(\\\\.[A-Za-z_][A-Za-z0-9_]*)*$\"'},\n  {'cell_type': 'code',\n   'outputs': [{'name': 'stdout',\n     'output_type': 'stream',\n     'text': \"'aaaa' <re.Match object; span=(0, 4), match='aaaa'>\\n'aaa.bbb' <re.Match object; span=(0, 7), match='aaa.bbb'>\\n'_abcd' <re.Match object; span=(0, 5), match='_abcd'>\\n'aaa/bbb' None\\n'aaa-bbb' None\\n'8fgh' None\\n'.xyz' None\\n\"}],\n   'source': 'names = [\"aaaa\", \"aaa.bbb\", \"_abcd\", \"aaa/bbb\", \"aaa-bbb\", \"8fgh\", \".xyz\"]\\n\\nfor name in names:\\n    match = re.fullmatch(pattern, name)\\n    print(repr(name), match) ',\n   'metadata': {'collapsed': False,\n    'ExecuteTime': {'end_time': '2023-12-27T19:33:01.405691Z',\n     'start_time': '2023-12-27T19:33:01.392810Z'}},\n   'id': '5ea0dd811bc6b736',\n   'execution_count': 6},\n  {'cell_type': 'code',\n   'outputs': [],\n   'source': '',\n   'metadata': {'collapsed': False,\n    'ExecuteTime': {'end_time': '2023-12-27T19:31:46.864540Z',\n     'start_time': '2023-12-27T19:31:46.861842Z'}},\n   'id': 'e87a7ec4392fbe37',\n   'execution_count': 4},\n  {'cell_type': 'code',\n   'outputs': [],\n   'source': '',\n   'metadata': {'collapsed': False},\n   'id': 'bf9ed8217412bdb8'}],\n 'metadata': {'kernelspec': {'display_name': 'Python 3',\n   'language': 'python',\n   'name': 'python3'},\n  'language_info': {'codemirror_mode': {'name': 'ipython', 'version': 2},\n   'file_extension': '.py',\n   'mimetype': 'text/x-python',\n   'name': 'python',\n   'nbconvert_exporter': 'python',\n   'pygments_lexer': 'ipython2',\n   'version': '2.7.6'}},\n 'nbformat': 4,\n 'nbformat_minor': 5}"
     },
     "execution_count": 20,
     "metadata": {},
     "output_type": "execute_result"
    }
   ],
   "source": [
    "error_dict = dict()\n",
    "\n",
    "with nbfile.open(\"r\") as f:\n",
    "    data = nbformat.read(f, as_version=nbformat.NO_CONVERT, capture_validation_error=error_dict)\n",
    "data"
   ],
   "metadata": {
    "collapsed": false,
    "ExecuteTime": {
     "end_time": "2023-12-28T18:30:24.844865Z",
     "start_time": "2023-12-28T18:30:24.806660Z"
    }
   },
   "id": "b08452fc0f2b02af",
   "execution_count": 20
  },
  {
   "cell_type": "code",
   "outputs": [
    {
     "data": {
      "text/plain": "{'ValidationError': <NotebookValidationError: \"'execution_count' is a required property\">}"
     },
     "execution_count": 22,
     "metadata": {},
     "output_type": "execute_result"
    }
   ],
   "source": [
    "error_dict"
   ],
   "metadata": {
    "collapsed": false,
    "ExecuteTime": {
     "end_time": "2023-12-28T18:30:41.052923Z",
     "start_time": "2023-12-28T18:30:41.036693Z"
    }
   },
   "id": "ff4f2182ee4bdbf1",
   "execution_count": 22
  },
  {
   "cell_type": "code",
   "outputs": [],
   "source": [
    "error = error_dict['ValidationError']"
   ],
   "metadata": {
    "collapsed": false,
    "ExecuteTime": {
     "end_time": "2023-12-28T18:30:41.349022Z",
     "start_time": "2023-12-28T18:30:41.337139Z"
    }
   },
   "id": "a68d49937ba070b5",
   "execution_count": 23
  },
  {
   "cell_type": "code",
   "outputs": [
    {
     "data": {
      "text/plain": "nbformat.validator.NotebookValidationError"
     },
     "execution_count": 24,
     "metadata": {},
     "output_type": "execute_result"
    }
   ],
   "source": [
    "type(error)"
   ],
   "metadata": {
    "collapsed": false,
    "ExecuteTime": {
     "end_time": "2023-12-28T18:30:41.884663Z",
     "start_time": "2023-12-28T18:30:41.873313Z"
    }
   },
   "id": "3b026e8c2fccb27a",
   "execution_count": 24
  },
  {
   "cell_type": "code",
   "outputs": [
    {
     "data": {
      "text/plain": "\"'execution_count' is a required property\\n\\nFailed validating 'required' in code_cell:\\n\\nOn instance['cells'][3]:\\n{'cell_type': 'code',\\n 'id': 'bf9ed8217412bdb8',\\n 'metadata': {'collapsed': False},\\n 'outputs': ['...0 outputs...'],\\n 'source': ''}\""
     },
     "execution_count": 25,
     "metadata": {},
     "output_type": "execute_result"
    }
   ],
   "source": [
    "str(error)"
   ],
   "metadata": {
    "collapsed": false,
    "ExecuteTime": {
     "end_time": "2023-12-28T18:30:42.932820Z",
     "start_time": "2023-12-28T18:30:42.916464Z"
    }
   },
   "id": "544edf98dd6a10cb",
   "execution_count": 25
  },
  {
   "cell_type": "code",
   "outputs": [
    {
     "data": {
      "text/plain": "'<NotebookValidationError: \"\\'execution_count\\' is a required property\">'"
     },
     "execution_count": 26,
     "metadata": {},
     "output_type": "execute_result"
    }
   ],
   "source": [
    "repr(error)"
   ],
   "metadata": {
    "collapsed": false,
    "ExecuteTime": {
     "end_time": "2023-12-28T18:30:43.400098Z",
     "start_time": "2023-12-28T18:30:43.389127Z"
    }
   },
   "id": "911366b77ff44117",
   "execution_count": 26
  },
  {
   "cell_type": "code",
   "outputs": [],
   "source": [],
   "metadata": {
    "collapsed": false
   },
   "id": "397b4d8ac3a24619"
  }
 ],
 "metadata": {
  "kernelspec": {
   "display_name": "Python 3",
   "language": "python",
   "name": "python3"
  },
  "language_info": {
   "codemirror_mode": {
    "name": "ipython",
    "version": 2
   },
   "file_extension": ".py",
   "mimetype": "text/x-python",
   "name": "python",
   "nbconvert_exporter": "python",
   "pygments_lexer": "ipython2",
   "version": "2.7.6"
  }
 },
 "nbformat": 4,
 "nbformat_minor": 5
}
